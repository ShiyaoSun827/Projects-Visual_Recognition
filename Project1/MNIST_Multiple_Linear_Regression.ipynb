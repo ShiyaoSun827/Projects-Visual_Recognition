{
  "cells": [
    {
      "cell_type": "markdown",
      "metadata": {
        "id": "s8XtcgbGj5xN"
      },
      "source": [
        "# Multiple Linear Regression for MNIST Images"
      ]
    },
    {
      "cell_type": "code",
<<<<<<< HEAD
      "execution_count": 1,
=======
      "source": [
        "from google.colab import drive\n",
        "drive.mount('/content/drive')"
      ],
>>>>>>> parent of 403cb5a (fixed)
      "metadata": {
        "colab": {
          "base_uri": "https://localhost:8080/",
          "height": 340
        },
        "id": "--m5PnW5Zaze",
        "outputId": "ad741082-3091-48d2-96f4-fc431af126fd"
      },
<<<<<<< HEAD
      "outputs": [
        {
          "ename": "MessageError",
          "evalue": "ignored",
          "output_type": "error",
=======
      "execution_count": 1,
      "outputs": [
        {
          "output_type": "error",
          "ename": "MessageError",
          "evalue": "ignored",
>>>>>>> parent of 403cb5a (fixed)
          "traceback": [
            "\u001b[0;31m---------------------------------------------------------------------------\u001b[0m",
            "\u001b[0;31mMessageError\u001b[0m                              Traceback (most recent call last)",
            "\u001b[0;32m<ipython-input-1-d5df0069828e>\u001b[0m in \u001b[0;36m<cell line: 2>\u001b[0;34m()\u001b[0m\n\u001b[1;32m      1\u001b[0m \u001b[0;32mfrom\u001b[0m \u001b[0mgoogle\u001b[0m\u001b[0;34m.\u001b[0m\u001b[0mcolab\u001b[0m \u001b[0;32mimport\u001b[0m \u001b[0mdrive\u001b[0m\u001b[0;34m\u001b[0m\u001b[0;34m\u001b[0m\u001b[0m\n\u001b[0;32m----> 2\u001b[0;31m \u001b[0mdrive\u001b[0m\u001b[0;34m.\u001b[0m\u001b[0mmount\u001b[0m\u001b[0;34m(\u001b[0m\u001b[0;34m'/content/drive'\u001b[0m\u001b[0;34m)\u001b[0m\u001b[0;34m\u001b[0m\u001b[0;34m\u001b[0m\u001b[0m\n\u001b[0m",
            "\u001b[0;32m/usr/local/lib/python3.10/dist-packages/google/colab/drive.py\u001b[0m in \u001b[0;36mmount\u001b[0;34m(mountpoint, force_remount, timeout_ms, readonly)\u001b[0m\n\u001b[1;32m    101\u001b[0m \u001b[0;32mdef\u001b[0m \u001b[0mmount\u001b[0m\u001b[0;34m(\u001b[0m\u001b[0mmountpoint\u001b[0m\u001b[0;34m,\u001b[0m \u001b[0mforce_remount\u001b[0m\u001b[0;34m=\u001b[0m\u001b[0;32mFalse\u001b[0m\u001b[0;34m,\u001b[0m \u001b[0mtimeout_ms\u001b[0m\u001b[0;34m=\u001b[0m\u001b[0;36m120000\u001b[0m\u001b[0;34m,\u001b[0m \u001b[0mreadonly\u001b[0m\u001b[0;34m=\u001b[0m\u001b[0;32mFalse\u001b[0m\u001b[0;34m)\u001b[0m\u001b[0;34m:\u001b[0m\u001b[0;34m\u001b[0m\u001b[0;34m\u001b[0m\u001b[0m\n\u001b[1;32m    102\u001b[0m   \u001b[0;34m\"\"\"Mount your Google Drive at the specified mountpoint path.\"\"\"\u001b[0m\u001b[0;34m\u001b[0m\u001b[0;34m\u001b[0m\u001b[0m\n\u001b[0;32m--> 103\u001b[0;31m   return _mount(\n\u001b[0m\u001b[1;32m    104\u001b[0m       \u001b[0mmountpoint\u001b[0m\u001b[0;34m,\u001b[0m\u001b[0;34m\u001b[0m\u001b[0;34m\u001b[0m\u001b[0m\n\u001b[1;32m    105\u001b[0m       \u001b[0mforce_remount\u001b[0m\u001b[0;34m=\u001b[0m\u001b[0mforce_remount\u001b[0m\u001b[0;34m,\u001b[0m\u001b[0;34m\u001b[0m\u001b[0;34m\u001b[0m\u001b[0m\n",
            "\u001b[0;32m/usr/local/lib/python3.10/dist-packages/google/colab/drive.py\u001b[0m in \u001b[0;36m_mount\u001b[0;34m(mountpoint, force_remount, timeout_ms, ephemeral, readonly)\u001b[0m\n\u001b[1;32m    130\u001b[0m   )\n\u001b[1;32m    131\u001b[0m   \u001b[0;32mif\u001b[0m \u001b[0mephemeral\u001b[0m\u001b[0;34m:\u001b[0m\u001b[0;34m\u001b[0m\u001b[0;34m\u001b[0m\u001b[0m\n\u001b[0;32m--> 132\u001b[0;31m     _message.blocking_request(\n\u001b[0m\u001b[1;32m    133\u001b[0m         \u001b[0;34m'request_auth'\u001b[0m\u001b[0;34m,\u001b[0m \u001b[0mrequest\u001b[0m\u001b[0;34m=\u001b[0m\u001b[0;34m{\u001b[0m\u001b[0;34m'authType'\u001b[0m\u001b[0;34m:\u001b[0m \u001b[0;34m'dfs_ephemeral'\u001b[0m\u001b[0;34m}\u001b[0m\u001b[0;34m,\u001b[0m \u001b[0mtimeout_sec\u001b[0m\u001b[0;34m=\u001b[0m\u001b[0;32mNone\u001b[0m\u001b[0;34m\u001b[0m\u001b[0;34m\u001b[0m\u001b[0m\n\u001b[1;32m    134\u001b[0m     )\n",
            "\u001b[0;32m/usr/local/lib/python3.10/dist-packages/google/colab/_message.py\u001b[0m in \u001b[0;36mblocking_request\u001b[0;34m(request_type, request, timeout_sec, parent)\u001b[0m\n\u001b[1;32m    174\u001b[0m       \u001b[0mrequest_type\u001b[0m\u001b[0;34m,\u001b[0m \u001b[0mrequest\u001b[0m\u001b[0;34m,\u001b[0m \u001b[0mparent\u001b[0m\u001b[0;34m=\u001b[0m\u001b[0mparent\u001b[0m\u001b[0;34m,\u001b[0m \u001b[0mexpect_reply\u001b[0m\u001b[0;34m=\u001b[0m\u001b[0;32mTrue\u001b[0m\u001b[0;34m\u001b[0m\u001b[0;34m\u001b[0m\u001b[0m\n\u001b[1;32m    175\u001b[0m   )\n\u001b[0;32m--> 176\u001b[0;31m   \u001b[0;32mreturn\u001b[0m \u001b[0mread_reply_from_input\u001b[0m\u001b[0;34m(\u001b[0m\u001b[0mrequest_id\u001b[0m\u001b[0;34m,\u001b[0m \u001b[0mtimeout_sec\u001b[0m\u001b[0;34m)\u001b[0m\u001b[0;34m\u001b[0m\u001b[0;34m\u001b[0m\u001b[0m\n\u001b[0m",
            "\u001b[0;32m/usr/local/lib/python3.10/dist-packages/google/colab/_message.py\u001b[0m in \u001b[0;36mread_reply_from_input\u001b[0;34m(message_id, timeout_sec)\u001b[0m\n\u001b[1;32m    101\u001b[0m     ):\n\u001b[1;32m    102\u001b[0m       \u001b[0;32mif\u001b[0m \u001b[0;34m'error'\u001b[0m \u001b[0;32min\u001b[0m \u001b[0mreply\u001b[0m\u001b[0;34m:\u001b[0m\u001b[0;34m\u001b[0m\u001b[0;34m\u001b[0m\u001b[0m\n\u001b[0;32m--> 103\u001b[0;31m         \u001b[0;32mraise\u001b[0m \u001b[0mMessageError\u001b[0m\u001b[0;34m(\u001b[0m\u001b[0mreply\u001b[0m\u001b[0;34m[\u001b[0m\u001b[0;34m'error'\u001b[0m\u001b[0;34m]\u001b[0m\u001b[0;34m)\u001b[0m\u001b[0;34m\u001b[0m\u001b[0;34m\u001b[0m\u001b[0m\n\u001b[0m\u001b[1;32m    104\u001b[0m       \u001b[0;32mreturn\u001b[0m \u001b[0mreply\u001b[0m\u001b[0;34m.\u001b[0m\u001b[0mget\u001b[0m\u001b[0;34m(\u001b[0m\u001b[0;34m'data'\u001b[0m\u001b[0;34m,\u001b[0m \u001b[0;32mNone\u001b[0m\u001b[0;34m)\u001b[0m\u001b[0;34m\u001b[0m\u001b[0;34m\u001b[0m\u001b[0m\n\u001b[1;32m    105\u001b[0m \u001b[0;34m\u001b[0m\u001b[0m\n",
            "\u001b[0;31mMessageError\u001b[0m: Error: credential propagation was unsuccessful"
          ]
        }
<<<<<<< HEAD
      ],
      "source": [
        "from google.colab import drive\n",
        "drive.mount('/content/drive')"
=======
>>>>>>> parent of 403cb5a (fixed)
      ]
    },
    {
      "cell_type": "code",
<<<<<<< HEAD
      "execution_count": 5,
=======
      "execution_count": 38,
>>>>>>> parent of 403cb5a (fixed)
      "metadata": {
        "colab": {
          "base_uri": "https://localhost:8080/"
        },
        "id": "j4BNOnZe46CQ",
        "outputId": "f840a2bf-a616-4f3e-af5e-0f70afbbaef4"
      },
      "outputs": [
        {
<<<<<<< HEAD
          "name": "stdout",
          "output_type": "stream",
          "text": [
            "cpu\n"
=======
          "output_type": "stream",
          "name": "stdout",
          "text": [
            "cuda:0\n"
>>>>>>> parent of 403cb5a (fixed)
          ]
        }
      ],
      "source": [
        "import torch\n",
        "import torchvision\n",
        "from torch.autograd import Variable\n",
        "\n",
        "n_epochs = 5\n",
        "batch_size_train = 200\n",
        "batch_size_test = 1000\n",
        "learning_rate = 0.01 #1e-3\n",
        "momentum = 0.5\n",
        "log_interval = 100\n",
        "\n",
        "random_seed = 1\n",
        "torch.backends.cudnn.enabled = False\n",
        "torch.manual_seed(random_seed)\n",
        "\n",
        "# Checking GPU availability\n",
        "device = torch.device(\"cuda:0\" if torch.cuda.is_available() else \"cpu\")\n",
        "print(device)\n"
      ]
    },
    {
      "cell_type": "markdown",
      "metadata": {
        "id": "FWd5IGhbkCnz"
      },
      "source": [
        "# MNIST dataset is part of torchvision\n",
        "## Divide MNIST into training, validation and test sets\n",
        "## Use DataLoader iterator for loading data in batches"
      ]
    },
    {
      "cell_type": "code",
      "execution_count": 29,
      "metadata": {
        "id": "Y2uiYpfC4_aW"
      },
      "outputs": [],
      "source": [
        "from posixpath import split\n",
        "from torch.utils.data import random_split\n",
        "from torch.utils.data import DataLoader, Subset\n",
        "\n",
        "\n",
        "MNIST_training = torchvision.datasets.MNIST('/MNIST_dataset/', train=True, download=True,\n",
        "                             transform=torchvision.transforms.Compose([\n",
        "                               torchvision.transforms.ToTensor(),\n",
        "                               torchvision.transforms.Normalize((0.1307,), (0.3081,))]))\n",
        "\n",
        "MNIST_test_set = torchvision.datasets.MNIST('/MNIST_dataset/', train=False, download=True,\n",
        "                             transform=torchvision.transforms.Compose([\n",
        "                               torchvision.transforms.ToTensor(),\n",
        "                               torchvision.transforms.Normalize((0.1307,), (0.3081,))]))\n",
        "\n",
        "# create a training and a validation set\n",
        "#MNIST_training_set,MNIST_validation_set = random_split(MNIST_training,[len(MNIST_training)-12000,12000])\n",
        "#print(MNIST_training)\n",
        "#MNIST_training_set = MNIST_training[0,len(MNIST_training)-12000]\n",
        "#MNIST_validation_set = MNIST_training[len(MNIST_training)-12000,len(MNIST_training)]\n",
        "train_indices = range(0, 48000)\n",
        "val_indices = range(48000, 60000)\n",
        "MNIST_training_set = Subset(MNIST_training,train_indices)\n",
        "MNIST_validation_set = Subset(MNIST_training,val_indices)\n",
        "\n",
        "\n",
        "#MNIST_training_set, MNIST_validation_set = random_split(MNIST_training, [55000, 5000])\n",
        "\n",
        "\n",
        "train_loader = torch.utils.data.DataLoader(MNIST_training_set,batch_size=batch_size_train, shuffle=True)\n",
        "\n",
        "validation_loader = torch.utils.data.DataLoader(MNIST_validation_set,batch_size=batch_size_train, shuffle=True)\n",
        "\n",
        "test_loader = torch.utils.data.DataLoader(MNIST_test_set,batch_size=batch_size_test, shuffle=True)"
      ]
    },
    {
      "cell_type": "markdown",
      "metadata": {
        "id": "vzUWismvsZeC"
      },
      "source": [
        "## Check DataLoader"
      ]
    },
    {
      "cell_type": "code",
      "execution_count": 30,
      "metadata": {
        "colab": {
          "base_uri": "https://localhost:8080/"
        },
        "id": "PSq8BOG85GyN",
        "outputId": "ce31fb20-5934-48ab-f4ff-385976206fbf"
      },
      "outputs": [
        {
<<<<<<< HEAD
          "name": "stdout",
          "output_type": "stream",
=======
          "output_type": "stream",
          "name": "stdout",
>>>>>>> parent of 403cb5a (fixed)
          "text": [
            "torch.Size([1000, 1, 28, 28])\n",
            "torch.Size([1000])\n"
          ]
        }
      ],
      "source": [
        "examples = enumerate(test_loader)\n",
        "batch_idx, (example_data, example_targets) = next(examples)\n",
        "print(example_data.shape)\n",
        "print(example_targets.shape)"
      ]
    },
    {
      "cell_type": "markdown",
      "metadata": {
        "id": "W4Bhye8YspZM"
      },
      "source": [
        "## Also, make sure to display some images"
      ]
    },
    {
      "cell_type": "code",
      "execution_count": 31,
      "metadata": {
        "colab": {
          "base_uri": "https://localhost:8080/",
          "height": 438
        },
        "id": "g1hgLmOT5KsW",
        "outputId": "840f09b3-8fff-44c4-d06c-9fc4ae8b709d"
      },
      "outputs": [
        {
<<<<<<< HEAD
          "data": {
            "image/png": "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",
            "text/plain": [
              "<Figure size 640x480 with 6 Axes>"
            ]
          },
          "metadata": {},
          "output_type": "display_data"
=======
          "output_type": "display_data",
          "data": {
            "text/plain": [
              "<Figure size 640x480 with 6 Axes>"
            ],
            "image/png": "iVBORw0KGgoAAAANSUhEUgAAAmYAAAGlCAYAAABQuDoNAAAAOXRFWHRTb2Z0d2FyZQBNYXRwbG90bGliIHZlcnNpb24zLjcuMSwgaHR0cHM6Ly9tYXRwbG90bGliLm9yZy/bCgiHAAAACXBIWXMAAA9hAAAPYQGoP6dpAAAxHklEQVR4nO3de3hNd77H8e+OkAuRksapDFKXiKCoW5ki+px5KErdGrfjUvQctCdNpDpuZ1xGW3WvtrR5Zh46OkZRyqh7T1um1aKtlmqmJ0RcYgh1CVFFfucPT1Jbfkv2StbO/u3k/Xoef+STtdf6bvZPvlnJd/9cSiklAAAA8LkAXxcAAACA22jMAAAADEFjBgAAYAgaMwAAAEPQmAEAABiCxgwAAMAQNGYAAACGoDEDAAAwBI0ZAACAIWjMvMjlcsn06dN9XcY9jRgxQqpUqeLrMgCPsKYA57GuzOLzxiwjI0Oee+45adiwoYSGhkpoaKg0btxYnn32Wfnuu+98XZ5Xde7cWVwuV5F/SrpgcnNzZfr06fLJJ584UrcnkpOTpWXLllK9enUJDQ2VuLg4mT59uly5cqXUaiivWFNlc01duXJFkpKSpFatWhIUFCRxcXGydOnSUrt+ece6Kpvr6k5HjhyR4OBgcblcsn//fp/UICIS6LMri8imTZtkwIABEhgYKEOGDJHmzZtLQECApKWlybp162Tp0qWSkZEh0dHRvizTa6ZMmSKjR48u+Hjfvn2yePFimTx5ssTFxRXkzZo1K9F1cnNzZcaMGSJye4GVhn379knHjh3l6aefluDgYPnmm29k9uzZsnPnTtm1a5cEBPj8e4IyiTVVNtfUrVu3pGvXrrJ//3559tlnJSYmRrZt2ybjxo2TCxcuyOTJk71eQ3nGuiqb6+puycnJEhgYKNevXy/1a7tRPpKenq4qV66s4uLiVFZWVqHP37hxQ7322mvq+PHj9zzPlStXvFViiYmImjZtmsfHr1mzRomI+vjjj+95nN3nnJ2dbVnL8OHDVeXKlW2dr7jmzZunRETt2bOnVK5X3rCmCisra2r16tVKRNSf//xnt7xfv34qODhYnTlzxtHr4Vesq8LKyrq609atW1WlSpXU1KlTlYioffv2ee1aRfHZbYs5c+bI1atXZdmyZVKzZs1Cnw8MDJTExESpXbt2QZb/M+YjR45I9+7dJSwsTIYMGSIiIlevXpWUlBSpXbu2BAUFSWxsrMybN0+UUgWPP3bsmLhcLlm+fHmh6919G3b69OnicrkkPT1dRowYIffdd5+Eh4fL008/Lbm5uW6PvX79uiQnJ0tkZKSEhYVJr1695OTJkyX8G3Kv4/DhwzJ48GCpVq2adOjQQURuf0eh+65ixIgR8uCDDxY858jISBERmTFjhuUt51OnTknv3r2lSpUqEhkZKS+88ILcunXL7ZjTp09LWlqa3Lhxo1jPJb+mixcvFuvxuDfWlGf8cU3t3r1bREQGDhzolg8cOFB+/vln2bBhg6dPHzaxrjzjj+sq340bN+T555+X559/XurXr2/viXuBzxqzTZs2SYMGDeSRRx6x9bibN29K165dpUaNGjJv3jzp16+fKKWkV69esnDhQnn88cdlwYIFEhsbKxMmTJDx48eXqM6EhATJycmRV155RRISEmT58uUFt1rzjR49WhYtWiRdunSR2bNnS8WKFaVHjx4luu7dnnrqKcnNzZWXX35ZnnnmGY8fFxkZWfB7KH369JEVK1bIihUrpG/fvgXH5P+YJCIiQubNmyfx8fEyf/58SU1NdTvXpEmTJC4uTk6dOuXRtW/evCnnzp2TrKws2b59u0ydOlXCwsKkbdu2HtcPz7Gm7PGnNXX9+nWpUKGCVKpUyS0PDQ0VEZGvvvrK4/phD+vKHn9aV/kWLVokFy5ckKlTp3pcr1f54jbdpUuXlIio3r17F/rchQsXVHZ2dsGf3Nzcgs8NHz5ciYiaOHGi22M++OADJSJq1qxZbnn//v2Vy+VS6enpSimlMjIylIioZcuWFbqu3HX7dNq0aUpE1MiRI92O69Onj4qIiCj4+MCBA0pE1Lhx49yOGzx4sCO3h/PrGDRoUKHj4+PjVXx8fKF8+PDhKjo6uuDjom4Pi4iaOXOmW/7www+rVq1aaY/NyMjw6Pns2bNHiUjBn9jY2CJvfaN4WFN6ZWVNzZ8/X4mI2r17t1s+ceJEJSLqiSeeuOfjUTysK72ysq6UUur06dMqLCxMvf3220oppZYtW1Y+f5R5+fJlERHt6Gvnzp0lMjKy4M+bb75Z6JixY8e6fbx582apUKGCJCYmuuUpKSmilJItW7YUu9YxY8a4fdyxY0c5f/58wXPYvHmziEihayclJRX7mp7U4TTd8zx69Khbtnz5clFKFdx6Lkrjxo1lx44d8sEHH8iLL74olStXZirTS1hTJa/DaU6uqcGDB0t4eLiMHDlSduzYIceOHZPU1FRZsmSJiIhcu3bN0dpxG+uq5HU4zemvVb///e+lXr16bsMNvuaTqcywsDAREe0X6bfffltycnLkzJkz8h//8R+FPh8YGCi1atVyyzIzMyUqKqrgvPnyp0UyMzOLXWudOnXcPq5WrZqIiFy4cEGqVq0qmZmZEhAQUOjn0rGxscW+pk7dunUdPd+dgoODC362n69atWpy4cKFEp23atWq8rvf/U5ERJ588klZuXKlPPnkk/L1119L8+bNS3RuuGNN2edPa+qBBx6QjRs3ytChQ6VLly4icnt9vf766zJ8+PBy8/5OpY11ZZ8/rasvvvhCVqxYIR999JFR7xTgk8YsPDxcatasKYcOHSr0ufyf4x87dkz72KCgoGL/BbpcLm1+9y8O3qlChQraXN3xi5qlISQkpFDmcrm0ddzr+ehYPUen9e3bV4YOHSqrVq2iMXMYa8o+f1tTnTp1kqNHj8rBgwfl6tWr0rx5c8nKyhIRkYYNGzp+PbCuisOf1tWLL74oHTt2lLp16xb8O547d05Ebg8QHD9+vFDDWxp81iL26NFD0tPTZe/evSU+V3R0tGRlZUlOTo5bnpaWVvB5kV+/g7h7KrAk36VER0dLXl6eHDlyxC3/5z//WexzeqpatWraCce7n4/VIi9t169fl7y8PLl06ZKvSymTWFMlZ/qaqlChgrRo0UIeffRRqVKliuzcuVNEpODONJzHuio5U9fV8ePHZdeuXVK3bt2CPxMmTBARkV69epX4fdmKy2eN2YsvviihoaEycuRIOXPmTKHP2+nyu3fvLrdu3ZI33njDLV+4cKG4XC7p1q2biNy+9X///ffLrl273I7L/z2N4sg/9+LFi93yRYsWFfucnqpfv76kpaVJdnZ2Qfbtt9/KZ5995nZc/uRWSd+mwtMR5IsXL2qP+dOf/iQiIq1bty5RHdBjTZWcqWtKJzs7W1599VVp1qwZjZkXsa5KztR1lZqaKuvXr3f789///d8iIjJv3jz561//WqI6istn7/wfExMjK1eulEGDBklsbGzBuykrpSQjI0NWrlwpAQEBhX5Gr9OzZ0957LHHZMqUKXLs2DFp3ry5bN++XTZs2CBJSUluP1MfPXq0zJ49W0aPHi2tW7eWXbt2yY8//ljs59GiRQsZNGiQLFmyRC5duiS//e1v5aOPPpL09PRin9NTI0eOlAULFkjXrl1l1KhRcvbsWXnrrbekSZMmBb/wKXL71nLjxo3lvffek4YNG0r16tWladOm0rRpU1vXmzRpkrzzzjuSkZFxz1+q/OSTTyQxMVH69+8vMTEx8ssvv8ju3btl3bp10rp1a+3vY6DkWFMlZ+qaEhGJj4+X9u3bS4MGDeRf//qXpKamypUrV2TTpk1G/X5MWcO6KjlT11X+72veKb8pjI+P991NhNIeA71benq6Gjt2rGrQoIEKDg5WISEhqlGjRmrMmDHqwIEDbsfe651/c3JyVHJysoqKilIVK1ZUMTExau7cuSovL8/tuNzcXDVq1CgVHh6uwsLCVEJCgjp79qzlCHJ2drbb4/NHae8cw7127ZpKTExUERERqnLlyqpnz57qxIkTjo4g311HvnfffVfVq1dPVapUSbVo0UJt27at0AiyUkp9/vnnqlWrVqpSpUpudVn9neZf906ejiCnp6erYcOGqXr16qmQkBAVHBysmjRpoqZNm2b0u1+XFaypX5WVNaWUUsnJyapevXoqKChIRUZGqsGDB6sjR44U+Tg4g3X1q7K0ru5mwttluJQq5d8MBAAAgBb3vwEAAAxBYwYAAGAIGjMAAABD0JgBAAAYgsYMAADAEDRmAAAAhvDoDWbz8vIkKytLwsLCjNneBxC5/a7bOTk5EhUV5Xdvssm6gqlYV4DzPF1XHjVmWVlZUrt2bceKA5x24sQJj9552ySsK5iOdQU4r6h15dG3QmFhYY4VBHiDP75G/bFmlC/++Br1x5pRvhT1GvWoMeN2MEznj69Rf6wZ5Ys/vkb9sWaUL0W9Rv3rlwcAAADKMBozAAAAQ9CYAQAAGILGDAAAwBA0ZgAAAIagMQMAADAEjRkAAIAhaMwAAAAMQWMGAABgCBozAAAAQ9CYAQAAGILGDAAAwBA0ZgAAAIagMQMAADAEjRkAAIAhaMwAAAAMQWMGAABgCBozAAAAQ9CYAQAAGILGDAAAwBA0ZgAAAIagMQMAADAEjRkAAIAhaMwAAAAMQWMGAABgCBozAAAAQwT6ugBfa9iwoTZv2bKlNr9y5Yo2j4mJsXXdZs2aafNhw4bZOo+VgAB9z52Xl2frPAMGDNDma9eutV0T4JTPP/9cm7dv316bjx8/XpsvXLjQsZoAwAncMQMAADAEjRkAAIAhaMwAAAAMQWMGAABgCBozAAAAQ5SbqUyr6csPP/xQm//mN7/R5rdu3dLmISEh2tzlcmlzpZSt3C6r6Uu75+/Zs6c2ZyoTpcHu9KWVBQsWaHOr1/GJEydsnR9A0Vq1aqXNN2/erM23b9+uzYcOHepYTSbijhkAAIAhaMwAAAAMQWMGAABgCBozAAAAQ9CYAQAAGKLcTGVa7X1548YNbV6pUiVvliPnz5+3dd2wsDBvliOHDh3S5suXL/fqdQERkfnz52tzq+lLq6nJRx99VJsfP37c1nUTEhK0OYDie+aZZ7R5RESENm/UqJE3yzEWd8wAAAAMQWMGAABgCBozAAAAQ9CYAQAAGILGDAAAwBDlZipz1apV2vwf//iHNm/Xrp03y7GcypwzZ442f/jhhx257p49e7R57969tblVnYCTnnrqKVvH16lTx9bxVq97q+vWrl1bm7OHJnwpOjpam//lL3/R5osWLdLm69evd6okWyIjI7W51Z7SVnlZxx0zAAAAQ9CYAQAAGILGDAAAwBA0ZgAAAIagMQMAADBEuZnKtHLy5EltvnbtWkfOHx8fr81TUlK0uVPTl59++qk2nzt3rjZn+hK+ZDUFuWDBAkfOb7XOrfTv31+bL1y40IlygGKxWg9We8SGhoZqc19NZVpN/yulbOVlHXfMAAAADEFjBgAAYAgaMwAAAEPQmAEAABiCxgwAAMAQ5X4q0ylW05effPKJNs/Ly7N1/pycHG3+pz/9SZu/8MILts4PlIbk5GRbx1vt9WeX3b0427dvr82ZykRpmDJlijbv27evNrf6enLu3DnHanJCQID+XpBV/eyVCQAAAJ+iMQMAADAEjRkAAIAhaMwAAAAMQWMGAABgCKYyberWrZs2/9vf/qbNraZN7O4BFhISos0rVapk6zyAL1lNO1o5ceKErePtTn1aqVWrliPnAe7Favpy4sSJ2tzu15OXXnqpeIV5id3633//fW+WYyzumAEAABiCxgwAAMAQNGYAAACGoDEDAAAwBI0ZAACAIZjKtGnEiBHavEqVKl69boUKFbT5uHHjtHliYqI3ywGKxdvTjnb3xLRid3oUuJfIyEhtPmTIEG0eGhqqzXNzc7X5sGHDtPk//vEPD6orPXb3vjx//ryXKjEbd8wAAAAMQWMGAABgCBozAAAAQ9CYAQAAGILGDAAAwBBMZdq0bNkybd62bVttvnv3bm2+ceNGbZ6SkqLN27Rp40F1v7rvvvu0+cWLF22dB3DSnj17tLnVFGS7du20+RdffGHrPFbWrFmjzZ2a7gRERCZNmqTNY2NjtbnV3pFpaWnafP369cUrrJRZPS+7e0eXddwxAwAAMASNGQAAgCFozAAAAAxBYwYAAGAIGjMAAABDMJVp09atW7V53bp1HTn/yZMntbndPc+mTp2qzV944QXbNQFOWbRokTYfP368Nl+9erU2t/s6XrBgga3rWh0PFEfHjh21eUCA/t5IXl6eNh86dKhjNXlTp06dtLndvTLLK+6YAQAAGILGDAAAwBA0ZgAAAIagMQMAADAEjRkAAIAhmMo0jNUegO+//74279+/vzZv3bq1Nq9SpYo2v3LligfVASVz4sQJbW53z8r33nvP1nVr165t63grCQkJ2txqHVodj/Llhx9+0OYtW7bU5lZ7Ry5cuFCbm7ZXZocOHbQ5e2V6hjtmAAAAhqAxAwAAMASNGQAAgCFozAAAAAxBYwYAAGAIl/JgHOLy5csSHh5eGvXAgtUUWr9+/bS51Z5kderU0eanTp0qXmGGuHTpklStWtXXZdjCuipacnKyNvfVXpZ79uzR5gMGDNDmVlOo/oJ15V379+/X5rGxsdq8cuXK2tzqy7jV1wF/Od5q2tm0KVS7ilpX3DEDAAAwBI0ZAACAIWjMAAAADEFjBgAAYAgaMwAAAEOwV2YZlZWVpc1/+eWXUq4EKD6rvQGdmsq02qMzJSVFm/v7lCXMYrWn8aRJk7T5rFmztLndvSatjt+9e7et88TFxdk6f2RkpK3jyyvumAEAABiCxgwAAMAQNGYAAACGoDEDAAAwBI0ZAACAIYyfyvy3f/s3bZ6Tk6PNc3NzvVmO37DaWzM7O7uUKwGKr3bt2l49f0JCglfPDxTHK6+8Yis3TZ8+fbT5+++/b+s8VlOcZR13zAAAAAxBYwYAAGAIGjMAAABD0JgBAAAYgsYMAADAEMZMZf7hD3/Q5s8884w2/9///V9tPnz4cMdq8md///vffV0CUGJJSUmOnGfPnj2OnAdA0davX6/NrfbEZK9Md9wxAwAAMASNGQAAgCFozAAAAAxBYwYAAGAIGjMAAABDlPpUZnJysjafNm2arfM88cQT2rxly5ba/Ouvv7Z1fl+ZOHGiNu/fv7+t83z66adOlAP4VPv27R05z/jx4x05D4Dic7lcvi7BL3DHDAAAwBA0ZgAAAIagMQMAADAEjRkAAIAhaMwAAAAMUepTmT/++KM2z83N1eYhISHaPDw8XJvv2LFDm48ZM0abnzhxQpt/8cUX2tyuhg0bavOhQ4dq85SUFG3OXmIoy2rXrq3N7U5lrlmzRps7tZ4BFB97ZXqGO2YAAACGoDEDAAAwBI0ZAACAIWjMAAAADEFjBgAAYIhSn8r88MMPtXliYqI2f/7557V506ZNtbnVtOaqVau0+blz57R5enq6NrerZs2a2rxOnTq2zmM1zbp8+XK7JQHGSUpKcuQ8CQkJjpwHgPPOnz+vzSMiIrR5ed1bkztmAAAAhqAxAwAAMASNGQAAgCFozAAAAAxBYwYAAGCIUp/KtLJs2TJtvnHjRm3+2GOP2Tr/22+/rc2tpkGscruspkqs9gY7e/asNrfaQ3PLli3FKwzwY1Z7YgIw17p167T56NGjtXl53UOTO2YAAACGoDEDAAAwBI0ZAACAIWjMAAAADEFjBgAAYAhjpjKtWO2ttXbtWlvnOXr0qDbv1KmTNrfay9JqT0+7Dhw4oM179uypzU+fPu3IdQETffnll7aOX7BggZcqAeAt2dnZ2tzq3QtSU1O9WY6xuGMGAABgCBozAAAAQ9CYAQAAGILGDAAAwBA0ZgAAAIZwKQ82o7p8+bKEh4eXRj1AsVy6dEmqVq3q6zJsYV3BdKwrOCk6Olqbv/POO9q8c+fOXqzGd4paV9wxAwAAMASNGQAAgCFozAAAAAxBYwYAAGAIGjMAAABDGL9XJgAA8H+ZmZnavKxOXxYXd8wAAAAMQWMGAABgCBozAAAAQ9CYAQAAGILGDAAAwBA0ZgAAAIagMQMAADAEjRkAAIAhaMwAAAAMQWMGAABgCI8aM6WUt+sASsQfX6P+WDPKF398jfpjzShfinqNetSY5eTkOFIM4C3++Br1x5pRvvjja9Qfa0b5UtRr1KU8+PYiLy9PsrKyJCwsTFwul2PFASWllJKcnByJioqSgAD/+sk86wqmYl0BzvN0XXnUmAEAAMD7/OtbIQAAgDKMxgwAAMAQNGYAAACGoDEDAAAwBI0ZAACAIWjMAAAADEFjBgAAYAgaMwAAAEPQmAEAABiCxgwAAMAQNGYAAACGoDEDAAAwBI0ZAACAIWjMAAAADEFjBgAAYAgaMwAAAEPQmAEAABiCxgwAAMAQNGYAAACGoDEDAAAwBI2ZF7lcLpk+fbqvy7inESNGSJUqVXxdBuAR1hTgPNaVWXzemGVkZMhzzz0nDRs2lNDQUAkNDZXGjRvLs88+K999952vy/Oqzp07i8vlKvJPSRdMbm6uTJ8+XT755BNH6vbElStXJCkpSWrVqiVBQUESFxcnS5cuLbXrl2esKdYUnMe6KpvrSkRk48aN0rJlSwkODpY6derItGnT5ObNm6Vaw50CfXZlEdm0aZMMGDBAAgMDZciQIdK8eXMJCAiQtLQ0WbdunSxdulQyMjIkOjral2V6zZQpU2T06NEFH+/bt08WL14skydPlri4uIK8WbNmJbpObm6uzJgxQ0RuLzBvu3XrlnTt2lX2798vzz77rMTExMi2bdtk3LhxcuHCBZk8ebLXayivWFOsKTiPdVU215WIyJYtW6R3797SuXNnef311+XgwYMya9YsOXv2rO++8VE+kp6eripXrqzi4uJUVlZWoc/fuHFDvfbaa+r48eP3PM+VK1e8VWKJiYiaNm2ax8evWbNGiYj6+OOP73mc3eecnZ1tWcvw4cNV5cqVbZ2vKKtXr1Yiov785z+75f369VPBwcHqzJkzjl4Pt7GmCmNNoaRYV4WVlXWllFKNGzdWzZs3Vzdu3CjIpkyZolwul/rhhx8cv54nfPajzDlz5sjVq1dl2bJlUrNmzUKfDwwMlMTERKldu3ZBlv8z5iNHjkj37t0lLCxMhgwZIiIiV69elZSUFKldu7YEBQVJbGyszJs3T5RSBY8/duyYuFwuWb58eaHr3X0bdvr06eJyuSQ9PV1GjBgh9913n4SHh8vTTz8tubm5bo+9fv26JCcnS2RkpISFhUmvXr3k5MmTJfwbcq/j8OHDMnjwYKlWrZp06NBBRG5/R6H7rmLEiBHy4IMPFjznyMhIERGZMWOG5S3nU6dOSe/evaVKlSoSGRkpL7zwgty6dcvtmNOnT0taWprcuHHjnjXv3r1bREQGDhzolg8cOFB+/vln2bBhg6dPHzawpjzDmoIdrCvP+OO6Onz4sBw+fFj+8z//UwIDf/0B4rhx40QpJWvXrrX5t+AMnzVmmzZtkgYNGsgjjzxi63E3b96Url27So0aNWTevHnSr18/UUpJr169ZOHChfL444/LggULJDY2ViZMmCDjx48vUZ0JCQmSk5Mjr7zyiiQkJMjy5csLbrXmGz16tCxatEi6dOkis2fPlooVK0qPHj1KdN27PfXUU5Kbmysvv/yyPPPMMx4/LjIysuB2bJ8+fWTFihWyYsUK6du3b8Ex+T8miYiIkHnz5kl8fLzMnz9fUlNT3c41adIkiYuLk1OnTt3zmtevX5cKFSpIpUqV3PLQ0FAREfnqq688rh+eY03Zw5qCJ1hX9vjTuvrmm29ERKR169ZueVRUlNSqVavg86XOF7fpLl26pERE9e7du9DnLly4oLKzswv+5ObmFnxu+PDhSkTUxIkT3R7zwQcfKBFRs2bNcsv79++vXC6XSk9PV0oplZGRoURELVu2rNB15a7bp9OmTVMiokaOHOl2XJ8+fVRERETBxwcOHFAiosaNG+d23ODBgx25PZxfx6BBgwodHx8fr+Lj4wvlw4cPV9HR0QUfF3V7WETUzJkz3fKHH35YtWrVSntsRkbGPZ/H/PnzlYio3bt3u+UTJ05UIqKeeOKJez4e9rGm9FhTKAnWlV5ZWVdz585VIqL9MXSbNm1Uu3bt7vl4b/HJHbPLly+LiGhHXzt37iyRkZEFf958881Cx4wdO9bt482bN0uFChUkMTHRLU9JSRGllGzZsqXYtY4ZM8bt444dO8r58+cLnsPmzZtFRApdOykpqdjX9KQOp+me59GjR92y5cuXi1Kq4NazlcGDB0t4eLiMHDlSduzYIceOHZPU1FRZsmSJiIhcu3bN0drBmnKiDqexpvwf66rkdTjNyXWVv26CgoIKfS44ONhn68onjVlYWJiI3B7/vtvbb78tO3bskHfffVf72MDAQKlVq5ZblpmZKVFRUQXnzZc/LZKZmVnsWuvUqeP2cbVq1URE5MKFCwXnDggIkPr167sdFxsbW+xr6tStW9fR890pODi44Gf7+apVq1bwHO164IEHZOPGjXL9+nXp0qWL1K1bVyZMmCCvv/66iOj/k0PJsKbsY02hKKwr+/xpXYWEhIjI7V8VuNvPP/9c8PnS5pO3ywgPD5eaNWvKoUOHCn0u/+f4x44d0z42KChIAgKK10+6XC5tfvcvDt6pQoUK2lzd8YuapUH3AnG5XNo67vV8dKyeY0l06tRJjh49KgcPHpSrV69K8+bNJSsrS0REGjZs6Pj1yjvWlH2sKRSFdWWfP62r/GGO06dPuw1v5Gdt27Z19Hqe8tkv//fo0UPS09Nl7969JT5XdHS0ZGVlSU5OjluelpZW8HmRX7+DuHjxottxJfkuJTo6WvLy8uTIkSNu+T//+c9in9NT1apVK/RcRAo/H6tF7m0VKlSQFi1ayKOPPipVqlSRnTt3iojI7373O5/UU9axpkqONYW7sa5KztR11aJFCxER2b9/v1uelZUlJ0+eLPh8afNZY/biiy9KaGiojBw5Us6cOVPo83a6/O7du8utW7fkjTfecMsXLlwoLpdLunXrJiIiVatWlfvvv1927drldlz+72kUR/65Fy9e7JYvWrSo2Of0VP369SUtLU2ys7MLsm+//VY+++wzt+PyJ7d0C8MOT0eQdbKzs+XVV1+VZs2a8UXES1hTJceawt1YVyVn6rpq0qSJNGrUSFJTU93u3i1dulRcLpf079+/RHUUl8/e+T8mJkZWrlwpgwYNktjY2IJ3U1ZKSUZGhqxcuVICAgIK/Yxep2fPnvLYY4/JlClT5NixY9K8eXPZvn27bNiwQZKSktx+pj569GiZPXu2jB49Wlq3bi27du2SH3/8sdjPo0WLFjJo0CBZsmSJXLp0SX7729/KRx99JOnp6cU+p6dGjhwpCxYskK5du8qoUaPk7Nmz8tZbb0mTJk0KfuFT5Pat5caNG8t7770nDRs2lOrVq0vTpk2ladOmtq43adIkeeeddyQjI6PIX6qMj4+X9u3bS4MGDeRf//qXpKamypUrV2TTpk3Fvr2Pe2NNlRxrCndjXZWcyetq7ty50qtXL+nSpYsMHDhQDh06JG+88YaMHj3abVeDUlXaY6B3S09PV2PHjlUNGjRQwcHBKiQkRDVq1EiNGTNGHThwwO3Ye73zb05OjkpOTlZRUVGqYsWKKiYmRs2dO1fl5eW5HZebm6tGjRqlwsPDVVhYmEpISFBnz561HEHOzs52e/yyZcsKjeFeu3ZNJSYmqoiICFW5cmXVs2dPdeLECUdHkO+uI9+7776r6tWrpypVqqRatGihtm3bVmgEWSmlPv/8c9WqVStVqVIlt7qs/k7zr3snT0eQlVIqOTlZ1atXTwUFBanIyEg1ePBgdeTIkSIfh5JjTf2KNQWnsK5+VZbWlVJKrV+/XrVo0UIFBQWpWrVqqalTp6pffvnFo8d6g0upUv7NQAAAAGhx/xsAAMAQNGYAAACGoDEDAAAwBI0ZAACAIWjMAAAADEFjBgAAYAiP3mA2Ly9PsrKyJCwszGdbkQA6SinJycmRqKgov3uTTdYVTMW6Apzn6bryqDHLysoqtMEnYJITJ0549M7bJmFdwXSsK8B5Ra0rj74VCgsLc6wgwBv88TXqjzWjfPHH16g/1ozypajXqEeNGbeDYTp/fI36Y80oX/zxNeqPNaN8Keo16l+/PAAAAFCG0ZgBAAAYgsYMAADAEDRmAAAAhqAxAwAAMASNGQAAgCFozAAAAAxBYwYAAGAIGjMAAABD0JgBAAAYgsYMAADAEDRmAAAAhqAxAwAAMASNGQAAgCECfV0AAADwPwEB+ns7bdu2tXWe//u//9Pm58+ft11TWcAdMwAAAEPQmAEAABiCxgwAAMAQNGYAAACGoDEDAAAwBFOZAACUI1bTlC6XS5srpbT5H//4R20+adIkW/WcOHFCm//Xf/2XNt+6daut8/sb7pgBAAAYgsYMAADAEDRmAAAAhqAxAwAAMASNGQAAgCGYygQAwI/df//92vy1117T5lWrVtXmX375pTZfsmSJNu/UqZM2X7VqlTbPzMzU5iNHjtTm69at0+ZTpkzR5gsXLtTm/oY7ZgAAAIagMQMAADAEjRkAAIAhaMwAAAAMQWMGAABgCKYyfeTBBx/U5p07d9bmrVq10uaDBg3S5lZ7nnXv3l2bW03jAADMYDVNuXjxYm0+cOBAbf7TTz9p82PHjtk6vkePHtr88uXL2tzK2rVrtbnVlOXMmTO1eV5enja3mk41FXfMAAAADEFjBgAAYAgaMwAAAEPQmAEAABiCxgwAAMAQLqWUKuqgy5cvS3h4eGnU47e6du2qza2mVoYMGaLNnfp7tprKPHv2rDaPi4vT5hcvXnSkHm+7dOmS5cSSqcrjurL6Nxo6dKg2//3vf6/Na9eurc09+O/MjdXr+9VXX9Xmy5Yt0+ZW68rfsa58o2nTptp8+/bt2vy+++7T5hMmTNDmqamp2vzGjRtFF1eKYmNjtfkrr7yizdu1a6fNH3roIW1+/vz54hVWQkWtK+6YAQAAGILGDAAAwBA0ZgAAAIagMQMAADAEjRkAAIAhyv1UptU0S1JSkjYfM2aMNq9WrZo2DwzUb0dq9deem5urza2mZaz+XaymMq2uW7NmTW2enZ2tzU3D9JhZ2rZtq81Xr16tzevUqWPr/CdPntTmdqcyo6KitHmFChW0+Zo1a7T5gAEDbF3XX7CuvKtevXra/NNPP9Xmv/nNb7T5u+++q82HDRtWvMIMZ/UuCB9++KE2/+qrr7R5hw4dtLm3p1OZygQAAPATNGYAAACGoDEDAAAwBI0ZAACAIWjMAAAADKEfGSyDGjZsqM1XrVqlzZs1a+bIda2maz744ANtvnPnTm3+yy+/aPM9e/Zo8+rVqxdd3B2sptP8ZSoTZpk+fbo2t5q+/P7777X5/PnztbnVFNrNmzeLLu4OKSkp2nzixIna3Or/kZCQEG1+7do1W/WgfLGa8reavjx9+rQ2T0xMdKwmf7Bt2zZt/vXXX2vzNm3aaPMnnnhCm69fv754hTmEO2YAAACGoDEDAAAwBI0ZAACAIWjMAAAADEFjBgAAYIgyt1fmoEGDtPnrr7+uza32yrSSlZVl67qfffaZrfNbqVy5sjb/5ptvtHn9+vW1udU/97lz57T53LlztbnVtJyvsKefb/Tr10+bv/fee9o8MzNTm1vtrXn+/PniFVZCe/fu1eatW7fW5lZTnHPmzHGsJl9gXTnD6vUxc+ZMbX79+nVtbjVdmJaWVrzCyphGjRpp88OHD2tzq2lwq/+PnJqyZq9MAAAAP0FjBgAAYAgaMwAAAEPQmAEAABiCxgwAAMAQxu+VWaNGDW0+YcIEbT5+/Hht7nK5tPmlS5e0+eTJk7X50qVLtbm3WU3jWE1fWj1fK5GRkdq8R48e2ty0qUz4htXekQEB+u/5rKZ/fTV96RSrKTqUL02aNNHmU6ZM0eaBgfovwX/4wx+0OdOX92Y19b169WptnpCQoM0feughbW41re007pgBAAAYgsYMAADAEDRmAAAAhqAxAwAAMASNGQAAgCGMmcrs3LmzNn/zzTe1eWxsrDa32gvSak9Jqz3Mdu7cqc2dYvV8raYjraZHPNjqtFSPB+6levXq2txqb0OrqWmnvPTSS9o8JiZGm+/fv1+bv/XWW47VBP/1/PPPa3OrvY4//fRTbf7qq686VlN5YrWX5TvvvKPNn3rqKW+WU2zcMQMAADAEjRkAAIAhaMwAAAAMQWMGAABgCBozAAAAQ5T6VKbV3mB//OMftbnV9KVdffv21eY///yzNrfaozMqKkqbP/nkk9p83Lhx2rxq1aravGLFitrcV3Jzc31dAgxmNTXdtWtXbd6pUydtfvr0aW1+7Ngxbf7xxx8XXdwdHnvsMW1u9f+L1V6z2dnZ2py9MiFi/XXm5s2b2txq+pJpeGdt2bJFm1t9/e/Tp482Z69MAACAcobGDAAAwBA0ZgAAAIagMQMAADAEjRkAAIAhSn0q02oKqn379l69bkZGhjb39vSL1XSXaVM3P/zwgzYfO3ZsKVcCf3L58mVtnpSUpM2XLl2qzR955BFt3qhRI1u5t33//fc+uS78Q0REhDa3mgrcunWrN8tBEay+Plv9O5YW7pgBAAAYgsYMAADAEDRmAAAAhqAxAwAAMASNGQAAgCFKfSrzp59+0uZZWVna3GpvSn+xZMkSbb5hwwZtbvX3MGLECG0+fvz4YtV1tzVr1mjzkydPOnJ+lC8HDhzQ5t26ddPmHTt2tHX+Bg0aaPN69eppc6v/d/7nf/7H1nX3799v63iULwcPHtTmVapU0eZW08VpaWmO1QRr3333nTZv1qxZKVfijjtmAAAAhqAxAwAAMASNGQAAgCFozAAAAAxBYwYAAGCIUp/KPH36tDbv3r27Nm/Tpo02Dw4OtnXd3bt3a/NDhw7ZOo+3hYWFafPevXtrc6u9vgIC9D33xYsXtXl2dnaRtQElZfX6+/vf/+7V665atcrW8Xl5edrcqn5AROTLL7/U5qNGjdLmPXv21OZMZZaOvXv3avPnnnuulCtxxx0zAAAAQ9CYAQAAGILGDAAAwBA0ZgAAAIagMQMAADBEqU9lWrGajjRtatLbBg4cqM2t9gBUSmlzq6myN954Q5svXbrUg+oA/1SxYkVbx3/99dfafPv27U6UgzLKavrXaipz5syZ2nz16tXaPDMzs3iFlXPDhg3T5kOHDtXmdqe4ncYdMwAAAEPQmAEAABiCxgwAAMAQNGYAAACGoDEDAAAwhDFTmeVNkyZNtPlLL73k1evu3LnTq+cHygKrPQ+Be7Ga5t21a5c279SpkzZ/6623tPnIkSO1udUe1OWN1bsaLFiwQJuHh4dr8++//96xmoqDO2YAAACGoDEDAAAwBI0ZAACAIWjMAAAADEFjBgAAYAimMn0kKSlJm1evXt2R8+/du1ebHz582JHzAyYKDg7W5k2bNi3lSlAeXbhwQZv36dNHm3/33Xfa/PHHH9fmVnu1zpgxQ5tfu3ZNmx88eFCbHz9+XJt72wMPPKDN77//fm0+ZcoUbZ6QkKDNAwL096Cee+45bZ6amqrNSwt3zAAAAAxBYwYAAGAIGjMAAABD0JgBAAAYgsYMAADAEExlelnv3r21+YABA7x63b/85S/aPDs726vXBXwpKChIm8fExNg6z4cffuhEOYCIWE9rNmvWTJtv2LBBm3fo0EGbr1692lY9V69e1eb79u2zdR6nWO0dXaNGDW2ulNLm3377rTafM2eONrf6e7t165Y2Ly3cMQMAADAEjRkAAIAhaMwAAAAMQWMGAABgCBozAAAAQzCV6WUzZ87U5pUrV/bqdXfv3u3V8wMm6ty5syPnOXfunCPnAe7Falrz3//937V5t27dtHm/fv20eUhIiDaPjY3V5hEREdr8oYce0uZ25eXlafPvv/9em2dkZGjzl19+WZtv2bJFm9+4ccOD6szBHTMAAABD0JgBAAAYgsYMAADAEDRmAAAAhqAxAwAAMARTmQ5p0KCBNrfaA8xqry+75s+fr80PHTrkyPkBf/Lggw/6ugSgxKymCDdu3Ggrd0rbtm0dOY/VHpRfffWVI+cvK7hjBgAAYAgaMwAAAEPQmAEAABiCxgwAAMAQNGYAAACGYCrTIX/729+8ev7MzExtPm/ePK9eF/AnP/74oyPnsdpLcP/+/Y6cH/Ane/fu9XUJ5Qp3zAAAAAxBYwYAAGAIGjMAAABD0JgBAAAYgsYMAADAEExlOuSnn35y5DxWe6TNmjVLm2dnZztyXaAs2LVrlzY/e/asNq9Ro4Y2b9eunTb/61//WrzCAMBD3DEDAAAwBI0ZAACAIWjMAAAADEFjBgAAYAgaMwAAAEMwlemQQYMGafOPP/5YmwcHB2vzmTNnanOmwYCiXb16VZtv3bpVmw8bNkybDxkyRJtbrcMvvvjCg+oAoGjcMQMAADAEjRkAAIAhaMwAAAAMQWMGAABgCBozAAAAQzCV6RCrvTKbN29eypUAuFtKSoo2b9KkiTYPDQ3V5pGRkY7VBAA63DEDAAAwBI0ZAACAIWjMAAAADEFjBgAAYAgaMwAAAEMwlQmgzDt//rw2b9OmTSlXAgD3xh0zAAAAQ9CYAQAAGILGDAAAwBA0ZgAAAIbwqDFTSnm7DqBE/PE16o81o3zxx9eoP9aM8qWo16hHjVlOTo4jxQDe4o+vUX+sGeWLP75G/bFmlC9FvUZdyoNvL/Ly8iQrK0vCwsLE5XI5VhxQUkopycnJkaioKAkI8K+fzLOuYCrWFeA8T9eVR40ZAAAAvM+/vhUCAAAow2jMAAAADEFjBgAAYAgaMwAAAEPQmAEAABiCxgwAAMAQNGYAAACG+H9STqaZUPnplQAAAABJRU5ErkJggg==\n"
          },
          "metadata": {}
>>>>>>> parent of 403cb5a (fixed)
        }
      ],
      "source": [
        "import matplotlib.pyplot as plt\n",
        "\n",
        "fig = plt.figure()\n",
        "for i in range(6):\n",
        "  plt.subplot(2,3,i+1)\n",
        "  plt.tight_layout()\n",
        "  plt.imshow(example_data[i][0], cmap='gray', interpolation='none')\n",
        "  plt.title(\"Ground Truth: {}\".format(example_targets[i]))\n",
        "  plt.xticks([])\n",
        "  plt.yticks([])"
      ]
    },
    {
      "cell_type": "code",
      "execution_count": 32,
      "metadata": {
        "id": "aM32G_zp52dY"
      },
      "outputs": [],
      "source": [
        "import torch.nn as nn\n",
        "import torch.nn.functional as F\n",
        "import torch.optim as optim\n",
        "from torch.autograd import Variable"
      ]
    },
    {
      "cell_type": "code",
      "execution_count": 33,
      "metadata": {
        "id": "cd1MU6Yh56HF"
      },
      "outputs": [],
      "source": [
        "# Multiple Linear regression\n",
        "class MultipleLinearRegression(nn.Module):\n",
        "    def __init__(self):\n",
        "        super(MultipleLinearRegression, self).__init__()\n",
        "        self.fc = nn.Linear(28*28, 10)\n",
        "\n",
        "    def forward(self, x):\n",
        "        x = x.view(x.size(0), -1)\n",
        "        x = self.fc(x)\n",
        "        return x"
      ]
    },
    {
      "cell_type": "code",
      "execution_count": 39,
      "metadata": {
        "id": "_hjjozQl6ARg"
      },
      "outputs": [],
      "source": [
        "multi_linear_model = MultipleLinearRegression().to(device)\n",
        "optimizer = optim.Adam(multi_linear_model.parameters(), lr=learning_rate,weight_decay=0.0001)#,weight_decay=0.0001\n",
        "\n",
        "one_hot = torch.nn.functional.one_hot\n"
      ]
    },
    {
      "cell_type": "code",
<<<<<<< HEAD
      "execution_count": null,
      "metadata": {
        "id": "2O2aul3jttPz"
      },
      "outputs": [],
      "source": []
=======
      "source": [],
      "metadata": {
        "id": "2O2aul3jttPz"
      },
      "execution_count": null,
      "outputs": []
>>>>>>> parent of 403cb5a (fixed)
    },
    {
      "cell_type": "code",
      "execution_count": 35,
      "metadata": {
        "id": "Cy8SKSrG6KxV"
      },
      "outputs": [],
      "source": [
        "def train(epoch,data_loader,model,optimizer):\n",
        "  for batch_idx, (data, target) in enumerate(data_loader):\n",
        "    data = data.to(device)\n",
        "    target = target.to(device)\n",
        "    optimizer.zero_grad()\n",
        "    output = model(data)\n",
        "    loss_fn = nn.CrossEntropyLoss()\n",
        "    temploss = loss_fn(output, target)\n",
        "    #temploss = nn.CrossEntropyLoss(output, one_hot(target,num_classes=10).float())\n",
        "    l1_lambda = 0.0001\n",
        "    l1_norm = sum(p.abs().sum() for p in model.parameters())\n",
        "    loss = temploss + l1_lambda * l1_norm\n",
        "    loss.backward()\n",
        "    optimizer.step()\n",
        "    if batch_idx % log_interval == 0:\n",
        "      print('Train Epoch: {} [{}/{} ({:.0f}%)]\\tLoss: {:.6f}'.format(\n",
        "        epoch, batch_idx * len(data), len(data_loader.dataset),\n",
        "        100. * batch_idx / len(data_loader), loss.item()))\n"
      ]
    },
    {
      "cell_type": "code",
      "execution_count": 36,
      "metadata": {
        "id": "Tr4Bd0BI6P7D"
      },
      "outputs": [],
      "source": [
        "def eval(data_loader,model,dataset):\n",
        "  loss = 0\n",
        "  correct = 0\n",
        "  with torch.no_grad(): # notice the use of no_grad\n",
        "    for data, target in data_loader:\n",
        "      data = data.to(device)\n",
        "      target = target.to(device)\n",
        "      output = model(data)\n",
        "      pred = output.data.max(1, keepdim=True)[1]\n",
        "      correct += pred.eq(target.data.view_as(pred)).sum()\n",
        "      loss += F.mse_loss(output, one_hot(target,num_classes=10).float(), size_average=False).item()\n",
        "  loss /= len(data_loader.dataset)\n",
        "  print(dataset+'set: Avg. loss: {:.4f}, Accuracy: {}/{} ({:.0f}%)\\n'.format(loss, correct, len(data_loader.dataset), 100. * correct / len(data_loader.dataset)))"
      ]
    },
    {
      "cell_type": "code",
      "execution_count": 37,
      "metadata": {
        "colab": {
          "base_uri": "https://localhost:8080/"
        },
        "id": "qRG7c7Sy6XOs",
        "outputId": "1576fa68-1826-4cc8-b91b-3bf5005d8786"
      },
      "outputs": [
        {
<<<<<<< HEAD
          "name": "stderr",
          "output_type": "stream",
=======
          "output_type": "stream",
          "name": "stderr",
>>>>>>> parent of 403cb5a (fixed)
          "text": [
            "/usr/local/lib/python3.10/dist-packages/torch/nn/_reduction.py:42: UserWarning: size_average and reduce args will be deprecated, please use reduction='sum' instead.\n",
            "  warnings.warn(warning.format(ret))\n"
          ]
        },
        {
<<<<<<< HEAD
          "name": "stdout",
          "output_type": "stream",
=======
          "output_type": "stream",
          "name": "stdout",
>>>>>>> parent of 403cb5a (fixed)
          "text": [
            "Validationset: Avg. loss: 5.2633, Accuracy: 1654/12000 (14%)\n",
            "\n",
            "Train Epoch: 1 [0/48000 (0%)]\tLoss: 2.520551\n",
            "Train Epoch: 1 [20000/48000 (42%)]\tLoss: 0.955479\n",
            "Train Epoch: 1 [40000/48000 (83%)]\tLoss: 1.688969\n",
            "Validationset: Avg. loss: 3599.3883, Accuracy: 10816/12000 (90%)\n",
            "\n",
            "Train Epoch: 2 [0/48000 (0%)]\tLoss: 0.979557\n",
            "Train Epoch: 2 [20000/48000 (42%)]\tLoss: 0.597005\n",
            "Train Epoch: 2 [40000/48000 (83%)]\tLoss: 1.581505\n",
            "Validationset: Avg. loss: 5069.3541, Accuracy: 10571/12000 (88%)\n",
            "\n",
            "Train Epoch: 3 [0/48000 (0%)]\tLoss: 1.599715\n",
            "Train Epoch: 3 [20000/48000 (42%)]\tLoss: 0.679041\n",
            "Train Epoch: 3 [40000/48000 (83%)]\tLoss: 1.757661\n",
            "Validationset: Avg. loss: 5091.1766, Accuracy: 10469/12000 (87%)\n",
            "\n",
            "Train Epoch: 4 [0/48000 (0%)]\tLoss: 1.143209\n",
            "Train Epoch: 4 [20000/48000 (42%)]\tLoss: 1.326051\n",
            "Train Epoch: 4 [40000/48000 (83%)]\tLoss: 1.096668\n",
            "Validationset: Avg. loss: 5587.5667, Accuracy: 10778/12000 (90%)\n",
            "\n",
            "Train Epoch: 5 [0/48000 (0%)]\tLoss: 1.028934\n",
            "Train Epoch: 5 [20000/48000 (42%)]\tLoss: 1.053710\n",
            "Train Epoch: 5 [40000/48000 (83%)]\tLoss: 1.751147\n",
            "Validationset: Avg. loss: 7092.6140, Accuracy: 10543/12000 (88%)\n",
            "\n",
            "Testset: Avg. loss: 7270.9869, Accuracy: 8785/10000 (88%)\n",
            "\n"
          ]
        }
      ],
      "source": [
        "eval(validation_loader,multi_linear_model,\"Validation\")\n",
        "for epoch in range(1, n_epochs + 1):\n",
        "  train(epoch,train_loader,multi_linear_model,optimizer)\n",
        "  eval(validation_loader,multi_linear_model,\"Validation\")\n",
        "\n",
        "eval(test_loader,multi_linear_model,\"Test\")"
      ]
    },
    {
      "cell_type": "code",
      "execution_count": null,
      "metadata": {
        "colab": {
          "base_uri": "https://localhost:8080/"
        },
        "id": "6HyPFMiAkw_0",
        "outputId": "7c68a85e-7a51-4ca6-abac-9211dd331395"
      },
      "outputs": [
        {
<<<<<<< HEAD
          "name": "stdout",
          "output_type": "stream",
=======
          "output_type": "stream",
          "name": "stdout",
>>>>>>> parent of 403cb5a (fixed)
          "text": [
            "Parameter containing:\n",
            "tensor([[ 4.7723e-05,  1.5732e-04,  1.9580e-04,  ...,  3.3775e-05,\n",
            "         -2.2207e-05,  1.1530e-05],\n",
            "        [-3.2638e-04, -1.1642e-04,  5.1299e-05,  ..., -4.2861e-04,\n",
            "         -4.2300e-04,  1.6092e-04],\n",
            "        [ 5.0897e-04,  5.2582e-04,  1.3858e-04,  ..., -1.6452e-04,\n",
            "          4.1898e-04, -3.5818e-04],\n",
            "        ...,\n",
            "        [-2.0079e-04, -3.8771e-04, -4.3183e-06,  ..., -3.6918e-05,\n",
            "          2.5698e-06, -2.6459e-04],\n",
            "        [ 1.6494e-04, -1.3817e-04,  2.0855e-05,  ..., -9.4165e-05,\n",
            "          4.8133e-04,  2.7553e-05],\n",
            "        [ 2.7521e-05, -1.0953e-05,  6.7724e-04,  ...,  4.7854e-04,\n",
            "          8.2444e-05,  8.3453e-05]], device='cuda:0', requires_grad=True)\n",
            "Parameter containing:\n",
            "tensor([-4.5762e-04, -1.0675e-03,  3.6450e-05, -4.9790e-04, -5.8358e-05,\n",
            "         3.7816e-03, -1.3441e-04, -7.4906e-04, -2.2129e-03,  1.9222e-04],\n",
            "       device='cuda:0', requires_grad=True)\n"
          ]
        }
      ],
      "source": [
        "for param in multi_linear_model.parameters():\n",
        "    print(param)"
      ]
    },
    {
      "cell_type": "code",
      "execution_count": null,
      "metadata": {
        "id": "tbcDApebkw_1"
      },
      "outputs": [],
      "source": []
    }
  ],
  "metadata": {
    "accelerator": "GPU",
    "colab": {
      "provenance": []
    },
    "kernelspec": {
      "display_name": "Python 3 (ipykernel)",
      "language": "python",
      "name": "python3"
    },
    "language_info": {
      "codemirror_mode": {
        "name": "ipython",
        "version": 3
      },
      "file_extension": ".py",
      "mimetype": "text/x-python",
      "name": "python",
      "nbconvert_exporter": "python",
      "pygments_lexer": "ipython3",
<<<<<<< HEAD
      "version": "3.10.13"
=======
      "version": "3.9.13"
>>>>>>> parent of 403cb5a (fixed)
    }
  },
  "nbformat": 4,
  "nbformat_minor": 0
<<<<<<< HEAD
}
=======
}
>>>>>>> parent of 403cb5a (fixed)
